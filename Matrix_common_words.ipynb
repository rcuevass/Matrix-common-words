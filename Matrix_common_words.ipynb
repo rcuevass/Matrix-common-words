{
 "cells": [
  {
   "cell_type": "markdown",
   "metadata": {},
   "source": [
    "# Matrix of common words in document corpus"
   ]
  },
  {
   "cell_type": "markdown",
   "metadata": {},
   "source": [
    "This notebook shows how, based on a corpus of documents, create a heat map for a corpus. \n",
    "As usual we start by loading the libraries we will need:"
   ]
  },
  {
   "cell_type": "code",
   "execution_count": 1,
   "metadata": {
    "collapsed": true
   },
   "outputs": [],
   "source": [
    "# Import libraries to load data in directory\n",
    "# to manage files in path\n",
    "from os import listdir\n",
    "from os.path import isfile, join\n",
    "# To use regular expressions\n",
    "import re\n",
    "# For matrices\n",
    "import numpy as np\n",
    "# NLP and stop words\n",
    "import nltk\n",
    "from nltk import bigrams\n",
    "from nltk.corpus import stopwords\n",
    "# For plotting heat map\n",
    "import matplotlib\n",
    "import matplotlib.pyplot as plt\n",
    "%matplotlib inline  "
   ]
  },
  {
   "cell_type": "markdown",
   "metadata": {},
   "source": [
    "Let's save English stopwords to a list "
   ]
  },
  {
   "cell_type": "code",
   "execution_count": 2,
   "metadata": {
    "collapsed": false
   },
   "outputs": [
    {
     "name": "stdout",
     "output_type": "stream",
     "text": [
      "[u'i', u'me', u'my', u'myself', u'we', u'our', u'ours', u'ourselves', u'you', u'your', u'yours', u'yourself', u'yourselves', u'he', u'him', u'his', u'himself', u'she', u'her', u'hers', u'herself', u'it', u'its', u'itself', u'they', u'them', u'their', u'theirs', u'themselves', u'what', u'which', u'who', u'whom', u'this', u'that', u'these', u'those', u'am', u'is', u'are', u'was', u'were', u'be', u'been', u'being', u'have', u'has', u'had', u'having', u'do', u'does', u'did', u'doing', u'a', u'an', u'the', u'and', u'but', u'if', u'or', u'because', u'as', u'until', u'while', u'of', u'at', u'by', u'for', u'with', u'about', u'against', u'between', u'into', u'through', u'during', u'before', u'after', u'above', u'below', u'to', u'from', u'up', u'down', u'in', u'out', u'on', u'off', u'over', u'under', u'again', u'further', u'then', u'once', u'here', u'there', u'when', u'where', u'why', u'how', u'all', u'any', u'both', u'each', u'few', u'more', u'most', u'other', u'some', u'such', u'no', u'nor', u'not', u'only', u'own', u'same', u'so', u'than', u'too', u'very', u's', u't', u'can', u'will', u'just', u'don', u'should', u'now']\n"
     ]
    }
   ],
   "source": [
    "stop = stopwords.words('english')\n",
    "print stop"
   ]
  },
  {
   "cell_type": "markdown",
   "metadata": {},
   "source": [
    "The following function returns a list of file names contained in folder found in a given path"
   ]
  },
  {
   "cell_type": "code",
   "execution_count": 3,
   "metadata": {
    "collapsed": true
   },
   "outputs": [],
   "source": [
    "def get_files(mypath):\n",
    "    \"\"\"\n",
    "    Function that get all the files contained in a given path\n",
    "    Returns list of files names\n",
    "    mypath: Location of folder containing the files\n",
    "    return: list of file names\n",
    "    \"\"\"\n",
    "    onlyfiles = [f for f in listdir(mypath) if isfile(join(mypath, f))]\n",
    "    return onlyfiles"
   ]
  },
  {
   "cell_type": "markdown",
   "metadata": {},
   "source": [
    "Function that tokenizes files content and filters it by removing stopwords"
   ]
  },
  {
   "cell_type": "code",
   "execution_count": 4,
   "metadata": {
    "collapsed": true
   },
   "outputs": [],
   "source": [
    "def process_file(file_name):\n",
    "    \"\"\"\n",
    "    Function that does the processes of a file\n",
    "    It removes spaces, punctuation, symbols, numbers, etc.\n",
    "    Finally tokenized the processed text after removing stopwords\n",
    "    file_name: name of file to be processed\n",
    "    return: list of clean and processed tokens\n",
    "    \"\"\"\n",
    "    # Open file...\n",
    "    with open (path_+file_name, \"r\") as myfile:\n",
    "        # ... and read content\n",
    "        data=myfile.read()\n",
    "    # \"Remove chomps\" , strip and make text lowercase\n",
    "    content = data.replace('\\n',' ').lower().strip()\n",
    "    # Remove punctuation and such\n",
    "    content = re.sub(r'[^a-z0-9\\s]','',content)\n",
    "    # Tokenize the just cleaned content...\n",
    "    tokens = nltk.word_tokenize(content)\n",
    "    # ... and update by selecting tokens of lenght greater than 1\n",
    "    tokens = [token for token in tokens if len(token) > 1]\n",
    "    # Finally return list of words that are not stopwords\n",
    "    filtered_words = [word for word in tokens if word not in stop]\n",
    "    return filtered_words"
   ]
  },
  {
   "cell_type": "markdown",
   "metadata": {},
   "source": [
    "The following function processes a collection of files with names stored in list_files"
   ]
  },
  {
   "cell_type": "code",
   "execution_count": 5,
   "metadata": {
    "collapsed": true
   },
   "outputs": [],
   "source": [
    "def process_files(list_files):\n",
    "    \"\"\"\n",
    "    Function that applies the process_file(file_name) function to a list\n",
    "    containing names of files\n",
    "    list_files: list of file names\n",
    "    return: list of tokenized documents in form of lists\n",
    "    \"\"\"\n",
    "    # Initialized list to be returned with an empty list\n",
    "    tokens_list = []\n",
    "    # For each file in the list of file names...\n",
    "    for file_name in list_files:\n",
    "        # ... process the file in turn ...\n",
    "        filtered_words = process_file(file_name)\n",
    "        # ... and append it to the list to be returned\n",
    "        tokens_list.append(filtered_words)\n",
    "    return tokens_list\n",
    "        "
   ]
  },
  {
   "cell_type": "markdown",
   "metadata": {},
   "source": [
    "We now write two functions; one will count the number of unique common words contained in two given lists and the other one the number of common words in a given list(document). Recall that each list represents a document of the corpus"
   ]
  },
  {
   "cell_type": "code",
   "execution_count": 6,
   "metadata": {
    "collapsed": true
   },
   "outputs": [],
   "source": [
    "def common_words_two_lists(list1,list2):\n",
    "    \"\"\"\n",
    "    Function that provides the number of unique common words in two given lists\n",
    "    list1, list2: lists representing document1 and document2, respectively\n",
    "    return: number of unique common words to both lists\n",
    "    \"\"\"\n",
    "    # Create the intersection of unique common words\n",
    "    common_words = set(list1)&set(list2)\n",
    "    return len(common_words)\n",
    "\n",
    "\n",
    "def words_in_list(list):\n",
    "    \"\"\"\n",
    "    Function that counts the number of unique words in a document represented by a list\n",
    "    list: list representing the pre-processed docuemnt\n",
    "    return: number of unique words in document\n",
    "    \"\"\"\n",
    "    unique_words = set(list)\n",
    "    return len(unique_words)\n"
   ]
  },
  {
   "cell_type": "markdown",
   "metadata": {},
   "source": [
    "The following function returns a matrix that contains in the diagonal the number of unique words contained in ith document (i is the index representing the number of document in corpus). The off-diagonal elements A_ij contain the number of unique common words in ith and jth document"
   ]
  },
  {
   "cell_type": "code",
   "execution_count": 7,
   "metadata": {
    "collapsed": true
   },
   "outputs": [],
   "source": [
    "def get_matrix(list_processed_files):\n",
    "    \"\"\"\n",
    "    Function that determines the matrix described in the comment above\n",
    "    list_processed_files: list representing the processed corupus of documents\n",
    "    return: symmetric matrix with the word count of each pair of documents\n",
    "    \"\"\"\n",
    "    # Get number of documents in corpus\n",
    "    n_ = len(list_processed_files)\n",
    "    # Initialize matrix with a square matrix of zeroes\n",
    "    A = np.zeros((n_,n_))\n",
    "    # The following two for loops scan only through the upper-triangular part of the matrix\n",
    "    # In the first loop ...\n",
    "    for i in range(n_):\n",
    "        # ... we compute the elements of the diagonal ...\n",
    "        A[i][i] = words_in_list(list_processed_files[i])\n",
    "        # ...while in the second loop ...\n",
    "        for j in range(i+1,n_):\n",
    "            # ... we compute the off-diagonal elements. Notice we skip the element A_ii as \n",
    "            # it has already been computed in the previous look\n",
    "            A[i][j] = common_words_two_lists(list_processed_files[i],list_processed_files[j])\n",
    "            # We copy the recently computed element to the lower-triangular counterpart\n",
    "            A[j][i] = A[i][j]\n",
    "    return A\n",
    "    "
   ]
  },
  {
   "cell_type": "code",
   "execution_count": 8,
   "metadata": {
    "collapsed": true
   },
   "outputs": [],
   "source": [
    "def heatMap_from_matrix(A):\n",
    "    \"\"\"\n",
    "    Function that plots the heat map associated with the matrix A\n",
    "    A: symmetric matrix with word counts\n",
    "    returns: none but shows the heat map\n",
    "    \"\"\"\n",
    "    # Reference\n",
    "    # http://stackoverflow.com/questions/14391959/heatmap-in-matplotlib-with-pcolor\n",
    "\n",
    "    list_idx = [str(i+1) if ((i+1)%10 == 0) else ' ' for i in range(100)]\n",
    "    column_labels = list_idx\n",
    "    row_labels = list_idx\n",
    "    data = A\n",
    "    fig, ax = plt.subplots()\n",
    "    heatmap = ax.pcolor(data, cmap=plt.cm.Blues)\n",
    "\n",
    "    # put the major ticks at the middle of each cell\n",
    "    ax.set_xticks(np.arange(data.shape[0])+0.5, minor=False)\n",
    "    ax.set_yticks(np.arange(data.shape[1])+0.5, minor=False)\n",
    "\n",
    "    # want a more natural, table-like display\n",
    "    ax.invert_yaxis()\n",
    "    ax.xaxis.tick_top()\n",
    "\n",
    "    ax.set_xticklabels(row_labels, minor=False)\n",
    "    ax.set_yticklabels(column_labels, minor=False)\n",
    "\n",
    "\n",
    "    plt.show()"
   ]
  },
  {
   "cell_type": "markdown",
   "metadata": {},
   "source": [
    "We now execute the sequence of functions written above"
   ]
  },
  {
   "cell_type": "code",
   "execution_count": 9,
   "metadata": {
    "collapsed": true
   },
   "outputs": [],
   "source": [
    "path_ = '/dir/files/'"
   ]
  },
  {
   "cell_type": "code",
   "execution_count": 10,
   "metadata": {
    "collapsed": true
   },
   "outputs": [],
   "source": [
    "list_files = get_files(path_)"
   ]
  },
  {
   "cell_type": "code",
   "execution_count": 11,
   "metadata": {
    "collapsed": false
   },
   "outputs": [],
   "source": [
    "list_processed_files = process_files(list_files)"
   ]
  },
  {
   "cell_type": "code",
   "execution_count": 12,
   "metadata": {
    "collapsed": true
   },
   "outputs": [],
   "source": [
    "A = get_matrix(list_processed_files)"
   ]
  },
  {
   "cell_type": "code",
   "execution_count": 13,
   "metadata": {
    "collapsed": false
   },
   "outputs": [
    {
     "data": {
      "image/png": "[encoded data removed]",
      "text/plain": [
       "<matplotlib.figure.Figure at 0x117262e50>"
      ]
     },
     "metadata": {},
     "output_type": "display_data"
    }
   ],
   "source": [
    "heatMap_from_matrix(A)"
   ]
  }
 ],
 "metadata": {
  "kernelspec": {
   "display_name": "Python 2",
   "language": "python",
   "name": "python2"
  },
  "language_info": {
   "codemirror_mode": {
    "name": "ipython",
    "version": 2
   },
   "file_extension": ".py",
   "mimetype": "text/x-python",
   "name": "python",
   "nbconvert_exporter": "python",
   "pygments_lexer": "ipython2",
   "version": "2.7.9"
  }
 },
 "nbformat": 4,
 "nbformat_minor": 0
}
